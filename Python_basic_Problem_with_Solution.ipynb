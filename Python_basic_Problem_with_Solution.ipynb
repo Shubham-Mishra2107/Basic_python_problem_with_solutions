{
 "cells": [
  {
   "cell_type": "markdown",
   "id": "ca2038ef",
   "metadata": {},
   "source": [
    "### 1. Take input from the users and detect whether the input is age or birth year, if user inputs age then add yrs after the input and if user enters birth year then add 'born' before input. also tell them when they will reach at the age of 100"
   ]
  },
  {
   "cell_type": "code",
   "execution_count": 1,
   "id": "2c391f5f",
   "metadata": {},
   "outputs": [],
   "source": [
    "class age_calculator:\n",
    "    def __init__(self,age):\n",
    "        self.age=age\n",
    "        \n",
    "    def year_age(self):\n",
    "        if len(str(self.age))==4:\n",
    "            print(f\"You were born in {self.age} and you will complete 100 years in {self.age+100}\")\n",
    "        elif len(str(self.age))==1 or len(str(self.age))==2:\n",
    "            cen=(2023-self.age)+100\n",
    "            print(f\"You are {self.age} yrs old and you wll complete 100 years in {cen}\")\n",
    "        elif len(str(self.age))==0:\n",
    "            print(f\"Great! You haven't born yet.\")\n",
    "        elif len(str(self.age))==3 and self.age>100:\n",
    "                  print(f\"You have already completed 100 yrs and you were born in {2023-self.age}\")\n",
    "        else:\n",
    "            raise ValueError(\"Please enter the valid input\")"
   ]
  },
  {
   "cell_type": "code",
   "execution_count": 2,
   "id": "33ee4a26",
   "metadata": {},
   "outputs": [
    {
     "name": "stdout",
     "output_type": "stream",
     "text": [
      "Enter your age or birth year: 28\n",
      "You are 28 yrs old and you wll complete 100 years in 2095\n"
     ]
    }
   ],
   "source": [
    "age=int(input(\"Enter your age or birth year: \"))\n",
    "person1=age_calculator(age)\n",
    "person1.year_age()"
   ]
  },
  {
   "cell_type": "markdown",
   "id": "63e5541f",
   "metadata": {},
   "source": [
    "### 2. Two ranges are provided to you m1 and m2, you have to take input from the user for both and along with that, take input for n which is going to be the number for which you need to find the possibilities of being divisor for the difference between m1 and m2\n",
    "\n",
    "### Input: m1, m2 and n\n",
    "\n",
    "### find out whether the difference of m1 and m2 is divisor of n or not, if m1 and m2 are equal, print the input and check is it divisor or not\n",
    "\n",
    "### Example: if n=20, m1=2, m2 =5; output --- 2 is a divisor of 20; 3 is not a divisor of 20; 4 is a divisor of 20...."
   ]
  },
  {
   "cell_type": "code",
   "execution_count": 3,
   "id": "533f5277",
   "metadata": {},
   "outputs": [],
   "source": [
    "class divisor:\n",
    "    def __init__(self,n,m1,m2):\n",
    "        self.n=n\n",
    "        self.m1=m1\n",
    "        self.m2=m2\n",
    "    def division_check(self):\n",
    "        if self.m1==self.m2:\n",
    "            if self.n%self.m1==0:\n",
    "                print(f\"This is not a range you entered same number for both m1 and m2, the input {self.m1} is a divisor of {self.n}\")\n",
    "            else:\n",
    "                print(f\"This is not a range you entered same number for both m1 and m2, the input {self.m1} is not a divisor of {self.n}\")\n",
    "        elif self.m2>self.m1:\n",
    "                for i in range(m1,m2+1):\n",
    "                    if self.n%i==0:\n",
    "                        print(f\"{i} is a divisor of {self.n}\")\n",
    "                    else:\n",
    "                        print(f\"{i} is not a divisor of {self.n}\")\n",
    "        elif self.m1>self.m2:\n",
    "            for j in range(m2,m1+1):\n",
    "                if self.n%j==0:\n",
    "                    print(f\"{j} is a divisor of {self.n}\")\n",
    "                else:\n",
    "                    print(f\"{j} is not a divisor of {self.n}\")\n",
    "            \n",
    "        else:\n",
    "            raise ValueError(f\"Please enter the valid input\")"
   ]
  },
  {
   "cell_type": "code",
   "execution_count": 4,
   "id": "5257464d",
   "metadata": {},
   "outputs": [
    {
     "name": "stdout",
     "output_type": "stream",
     "text": [
      "Please enter the number:100\n",
      "Please enter first number of the range: 4\n",
      "Please enter the second number of the range: 10\n",
      "4 is a divisor of 100\n",
      "5 is a divisor of 100\n",
      "6 is not a divisor of 100\n",
      "7 is not a divisor of 100\n",
      "8 is not a divisor of 100\n",
      "9 is not a divisor of 100\n",
      "10 is a divisor of 100\n"
     ]
    }
   ],
   "source": [
    "n=int(input(\"Please enter the number:\"))\n",
    "m1=int(input(\"Please enter first number of the range: \"))\n",
    "m2=int(input(\"Please enter the second number of the range: \"))\n",
    "test1=divisor(n,m1,m2)\n",
    "test1.division_check()"
   ]
  },
  {
   "cell_type": "code",
   "execution_count": null,
   "id": "ab70484e",
   "metadata": {},
   "outputs": [],
   "source": []
  },
  {
   "cell_type": "code",
   "execution_count": null,
   "id": "d54f2526",
   "metadata": {},
   "outputs": [],
   "source": []
  }
 ],
 "metadata": {
  "kernelspec": {
   "display_name": "Python 3 (ipykernel)",
   "language": "python",
   "name": "python3"
  },
  "language_info": {
   "codemirror_mode": {
    "name": "ipython",
    "version": 3
   },
   "file_extension": ".py",
   "mimetype": "text/x-python",
   "name": "python",
   "nbconvert_exporter": "python",
   "pygments_lexer": "ipython3",
   "version": "3.11.3"
  }
 },
 "nbformat": 4,
 "nbformat_minor": 5
}
